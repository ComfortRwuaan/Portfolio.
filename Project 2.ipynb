{
 "cells": [
  {
   "cell_type": "markdown",
   "id": "0db425f6",
   "metadata": {},
   "source": [
    "# Data Analysis and Visualization Project"
   ]
  },
  {
   "cell_type": "markdown",
   "id": "039027f8",
   "metadata": {},
   "source": [
    "You have just being employed as the Data Analyst for Coven Credit. As a business, one of our top goals is to ensure we only give loans to the right people so as to minimise loan defaults and maximise revenue. Using the dataset above, generate at least 3 research/business questions that can help Coven Credit improve their business operations.\n",
    "\n",
    "Prepare your final presentation slides with Jupyter notebook showing the findings being guided by your research questions with at least 5 Charts cutting across Univariate, Bivariate and Multivariate Charts)"
   ]
  },
  {
   "cell_type": "markdown",
   "id": "c03b2eb2",
   "metadata": {},
   "source": [
    "**META DATA**\n",
    "\n",
    "Loan_id: A unique loan number assigned to each loan customers\n",
    "\n",
    "Loan_status: Whether a loan is paid off, in collection, new customer yet to payoff, or paid off after the collection efforts\n",
    "\n",
    "Principal: Basic principal loan amount at the origination\n",
    "\n",
    "terms: Can be weekly (7 days), biweekly, and monthly payoff schedule\n",
    "\n",
    "Effective_date: When the loan got originated and took effects\n",
    "\n",
    "Due_date: Since it’s one-time payoff schedule, each loan has one single due date\n",
    "\n",
    "Paidoff_time: The actual time a customer pays off the loan\n",
    "\n",
    "Pastdue_days: How many days a loan has been past due\n",
    "\n",
    "Age, education, gender A customer’s basic demographic information"
   ]
  },
  {
   "cell_type": "markdown",
   "id": "a3bac087",
   "metadata": {},
   "source": [
    "## Work plan\n",
    "1. Explore Data\n",
    "2. Clean the Data\n",
    "3. Write out relevant Research Questions\n",
    "4. Answer the Questions\n",
    "5. Visualizations"
   ]
  },
  {
   "cell_type": "markdown",
   "id": "a86bbcf0",
   "metadata": {},
   "source": [
    "### 1. Data Loading and Exploration"
   ]
  },
  {
   "cell_type": "code",
   "execution_count": 360,
   "id": "959cac6e",
   "metadata": {
    "scrolled": true
   },
   "outputs": [],
   "source": [
    "import numpy as np\n",
    "import pandas as pd\n",
    "import matplotlib.pyplot as plt\n",
    "%matplotlib inline\n",
    "import seaborn as sns\n",
    "import zipfile\n",
    "import plotly.express as px\n",
    "\n"
   ]
  },
  {
   "cell_type": "code",
   "execution_count": 361,
   "id": "9bfa20a7",
   "metadata": {
    "scrolled": true
   },
   "outputs": [],
   "source": [
    "df = pd.read_csv('Loan payments data.csv')"
   ]
  },
  {
   "cell_type": "code",
   "execution_count": 362,
   "id": "91122d2d",
   "metadata": {
    "scrolled": false
   },
   "outputs": [
    {
     "data": {
      "text/html": [
       "<div>\n",
       "<style scoped>\n",
       "    .dataframe tbody tr th:only-of-type {\n",
       "        vertical-align: middle;\n",
       "    }\n",
       "\n",
       "    .dataframe tbody tr th {\n",
       "        vertical-align: top;\n",
       "    }\n",
       "\n",
       "    .dataframe thead th {\n",
       "        text-align: right;\n",
       "    }\n",
       "</style>\n",
       "<table border=\"1\" class=\"dataframe\">\n",
       "  <thead>\n",
       "    <tr style=\"text-align: right;\">\n",
       "      <th></th>\n",
       "      <th>Loan_ID</th>\n",
       "      <th>loan_status</th>\n",
       "      <th>Principal</th>\n",
       "      <th>terms</th>\n",
       "      <th>effective_date</th>\n",
       "      <th>due_date</th>\n",
       "      <th>paid_off_time</th>\n",
       "      <th>past_due_days</th>\n",
       "      <th>age</th>\n",
       "      <th>education</th>\n",
       "      <th>Gender</th>\n",
       "    </tr>\n",
       "  </thead>\n",
       "  <tbody>\n",
       "    <tr>\n",
       "      <th>0</th>\n",
       "      <td>xqd20166231</td>\n",
       "      <td>PAIDOFF</td>\n",
       "      <td>1000</td>\n",
       "      <td>30</td>\n",
       "      <td>9/8/2016</td>\n",
       "      <td>10/7/2016</td>\n",
       "      <td>9/14/2016 19:31</td>\n",
       "      <td>NaN</td>\n",
       "      <td>45</td>\n",
       "      <td>High School or Below</td>\n",
       "      <td>male</td>\n",
       "    </tr>\n",
       "    <tr>\n",
       "      <th>1</th>\n",
       "      <td>xqd20168902</td>\n",
       "      <td>PAIDOFF</td>\n",
       "      <td>1000</td>\n",
       "      <td>30</td>\n",
       "      <td>9/8/2016</td>\n",
       "      <td>10/7/2016</td>\n",
       "      <td>10/7/2016 9:00</td>\n",
       "      <td>NaN</td>\n",
       "      <td>50</td>\n",
       "      <td>Bechalor</td>\n",
       "      <td>female</td>\n",
       "    </tr>\n",
       "    <tr>\n",
       "      <th>2</th>\n",
       "      <td>xqd20160003</td>\n",
       "      <td>PAIDOFF</td>\n",
       "      <td>1000</td>\n",
       "      <td>30</td>\n",
       "      <td>9/8/2016</td>\n",
       "      <td>10/7/2016</td>\n",
       "      <td>9/25/2016 16:58</td>\n",
       "      <td>NaN</td>\n",
       "      <td>33</td>\n",
       "      <td>Bechalor</td>\n",
       "      <td>female</td>\n",
       "    </tr>\n",
       "    <tr>\n",
       "      <th>3</th>\n",
       "      <td>xqd20160004</td>\n",
       "      <td>PAIDOFF</td>\n",
       "      <td>1000</td>\n",
       "      <td>15</td>\n",
       "      <td>9/8/2016</td>\n",
       "      <td>9/22/2016</td>\n",
       "      <td>9/22/2016 20:00</td>\n",
       "      <td>NaN</td>\n",
       "      <td>27</td>\n",
       "      <td>college</td>\n",
       "      <td>male</td>\n",
       "    </tr>\n",
       "    <tr>\n",
       "      <th>4</th>\n",
       "      <td>xqd20160005</td>\n",
       "      <td>PAIDOFF</td>\n",
       "      <td>1000</td>\n",
       "      <td>30</td>\n",
       "      <td>9/9/2016</td>\n",
       "      <td>10/8/2016</td>\n",
       "      <td>9/23/2016 21:36</td>\n",
       "      <td>NaN</td>\n",
       "      <td>28</td>\n",
       "      <td>college</td>\n",
       "      <td>female</td>\n",
       "    </tr>\n",
       "    <tr>\n",
       "      <th>...</th>\n",
       "      <td>...</td>\n",
       "      <td>...</td>\n",
       "      <td>...</td>\n",
       "      <td>...</td>\n",
       "      <td>...</td>\n",
       "      <td>...</td>\n",
       "      <td>...</td>\n",
       "      <td>...</td>\n",
       "      <td>...</td>\n",
       "      <td>...</td>\n",
       "      <td>...</td>\n",
       "    </tr>\n",
       "    <tr>\n",
       "      <th>495</th>\n",
       "      <td>xqd20160496</td>\n",
       "      <td>COLLECTION_PAIDOFF</td>\n",
       "      <td>1000</td>\n",
       "      <td>30</td>\n",
       "      <td>9/12/2016</td>\n",
       "      <td>10/11/2016</td>\n",
       "      <td>10/14/2016 19:08</td>\n",
       "      <td>3.0</td>\n",
       "      <td>28</td>\n",
       "      <td>High School or Below</td>\n",
       "      <td>male</td>\n",
       "    </tr>\n",
       "    <tr>\n",
       "      <th>496</th>\n",
       "      <td>xqd20160497</td>\n",
       "      <td>COLLECTION_PAIDOFF</td>\n",
       "      <td>1000</td>\n",
       "      <td>15</td>\n",
       "      <td>9/12/2016</td>\n",
       "      <td>9/26/2016</td>\n",
       "      <td>10/10/2016 20:02</td>\n",
       "      <td>14.0</td>\n",
       "      <td>26</td>\n",
       "      <td>High School or Below</td>\n",
       "      <td>male</td>\n",
       "    </tr>\n",
       "    <tr>\n",
       "      <th>497</th>\n",
       "      <td>xqd20160498</td>\n",
       "      <td>COLLECTION_PAIDOFF</td>\n",
       "      <td>800</td>\n",
       "      <td>15</td>\n",
       "      <td>9/12/2016</td>\n",
       "      <td>9/26/2016</td>\n",
       "      <td>9/29/2016 11:49</td>\n",
       "      <td>3.0</td>\n",
       "      <td>30</td>\n",
       "      <td>college</td>\n",
       "      <td>male</td>\n",
       "    </tr>\n",
       "    <tr>\n",
       "      <th>498</th>\n",
       "      <td>xqd20160499</td>\n",
       "      <td>COLLECTION_PAIDOFF</td>\n",
       "      <td>1000</td>\n",
       "      <td>30</td>\n",
       "      <td>9/12/2016</td>\n",
       "      <td>11/10/2016</td>\n",
       "      <td>11/11/2016 22:40</td>\n",
       "      <td>1.0</td>\n",
       "      <td>38</td>\n",
       "      <td>college</td>\n",
       "      <td>female</td>\n",
       "    </tr>\n",
       "    <tr>\n",
       "      <th>499</th>\n",
       "      <td>xqd20160500</td>\n",
       "      <td>COLLECTION_PAIDOFF</td>\n",
       "      <td>1000</td>\n",
       "      <td>30</td>\n",
       "      <td>9/12/2016</td>\n",
       "      <td>10/11/2016</td>\n",
       "      <td>10/19/2016 11:58</td>\n",
       "      <td>8.0</td>\n",
       "      <td>28</td>\n",
       "      <td>High School or Below</td>\n",
       "      <td>male</td>\n",
       "    </tr>\n",
       "  </tbody>\n",
       "</table>\n",
       "<p>500 rows × 11 columns</p>\n",
       "</div>"
      ],
      "text/plain": [
       "         Loan_ID         loan_status  Principal  terms effective_date  \\\n",
       "0    xqd20166231             PAIDOFF       1000     30       9/8/2016   \n",
       "1    xqd20168902             PAIDOFF       1000     30       9/8/2016   \n",
       "2    xqd20160003             PAIDOFF       1000     30       9/8/2016   \n",
       "3    xqd20160004             PAIDOFF       1000     15       9/8/2016   \n",
       "4    xqd20160005             PAIDOFF       1000     30       9/9/2016   \n",
       "..           ...                 ...        ...    ...            ...   \n",
       "495  xqd20160496  COLLECTION_PAIDOFF       1000     30      9/12/2016   \n",
       "496  xqd20160497  COLLECTION_PAIDOFF       1000     15      9/12/2016   \n",
       "497  xqd20160498  COLLECTION_PAIDOFF        800     15      9/12/2016   \n",
       "498  xqd20160499  COLLECTION_PAIDOFF       1000     30      9/12/2016   \n",
       "499  xqd20160500  COLLECTION_PAIDOFF       1000     30      9/12/2016   \n",
       "\n",
       "       due_date     paid_off_time  past_due_days  age             education  \\\n",
       "0     10/7/2016   9/14/2016 19:31            NaN   45  High School or Below   \n",
       "1     10/7/2016    10/7/2016 9:00            NaN   50              Bechalor   \n",
       "2     10/7/2016   9/25/2016 16:58            NaN   33              Bechalor   \n",
       "3     9/22/2016   9/22/2016 20:00            NaN   27               college   \n",
       "4     10/8/2016   9/23/2016 21:36            NaN   28               college   \n",
       "..          ...               ...            ...  ...                   ...   \n",
       "495  10/11/2016  10/14/2016 19:08            3.0   28  High School or Below   \n",
       "496   9/26/2016  10/10/2016 20:02           14.0   26  High School or Below   \n",
       "497   9/26/2016   9/29/2016 11:49            3.0   30               college   \n",
       "498  11/10/2016  11/11/2016 22:40            1.0   38               college   \n",
       "499  10/11/2016  10/19/2016 11:58            8.0   28  High School or Below   \n",
       "\n",
       "     Gender  \n",
       "0      male  \n",
       "1    female  \n",
       "2    female  \n",
       "3      male  \n",
       "4    female  \n",
       "..      ...  \n",
       "495    male  \n",
       "496    male  \n",
       "497    male  \n",
       "498  female  \n",
       "499    male  \n",
       "\n",
       "[500 rows x 11 columns]"
      ]
     },
     "execution_count": 362,
     "metadata": {},
     "output_type": "execute_result"
    }
   ],
   "source": [
    "df"
   ]
  },
  {
   "cell_type": "code",
   "execution_count": 363,
   "id": "3b97f329",
   "metadata": {
    "scrolled": true
   },
   "outputs": [
    {
     "data": {
      "text/plain": [
       "(500, 11)"
      ]
     },
     "execution_count": 363,
     "metadata": {},
     "output_type": "execute_result"
    }
   ],
   "source": [
    "df.shape"
   ]
  },
  {
   "cell_type": "code",
   "execution_count": 364,
   "id": "b118d24b",
   "metadata": {
    "scrolled": true
   },
   "outputs": [
    {
     "name": "stdout",
     "output_type": "stream",
     "text": [
      "<class 'pandas.core.frame.DataFrame'>\n",
      "RangeIndex: 500 entries, 0 to 499\n",
      "Data columns (total 11 columns):\n",
      " #   Column          Non-Null Count  Dtype  \n",
      "---  ------          --------------  -----  \n",
      " 0   Loan_ID         500 non-null    object \n",
      " 1   loan_status     500 non-null    object \n",
      " 2   Principal       500 non-null    int64  \n",
      " 3   terms           500 non-null    int64  \n",
      " 4   effective_date  500 non-null    object \n",
      " 5   due_date        500 non-null    object \n",
      " 6   paid_off_time   400 non-null    object \n",
      " 7   past_due_days   200 non-null    float64\n",
      " 8   age             500 non-null    int64  \n",
      " 9   education       500 non-null    object \n",
      " 10  Gender          500 non-null    object \n",
      "dtypes: float64(1), int64(3), object(7)\n",
      "memory usage: 43.1+ KB\n"
     ]
    }
   ],
   "source": [
    "df.info()"
   ]
  },
  {
   "cell_type": "code",
   "execution_count": 365,
   "id": "716481fa",
   "metadata": {
    "scrolled": true
   },
   "outputs": [
    {
     "data": {
      "text/plain": [
       "Loan_ID            object\n",
       "loan_status        object\n",
       "Principal           int64\n",
       "terms               int64\n",
       "effective_date     object\n",
       "due_date           object\n",
       "paid_off_time      object\n",
       "past_due_days     float64\n",
       "age                 int64\n",
       "education          object\n",
       "Gender             object\n",
       "dtype: object"
      ]
     },
     "execution_count": 365,
     "metadata": {},
     "output_type": "execute_result"
    }
   ],
   "source": [
    "df.dtypes"
   ]
  },
  {
   "cell_type": "code",
   "execution_count": 366,
   "id": "b996ffa9",
   "metadata": {
    "scrolled": true
   },
   "outputs": [
    {
     "data": {
      "text/plain": [
       "Loan_ID             0\n",
       "loan_status         0\n",
       "Principal           0\n",
       "terms               0\n",
       "effective_date      0\n",
       "due_date            0\n",
       "paid_off_time     100\n",
       "past_due_days     300\n",
       "age                 0\n",
       "education           0\n",
       "Gender              0\n",
       "dtype: int64"
      ]
     },
     "execution_count": 366,
     "metadata": {},
     "output_type": "execute_result"
    }
   ],
   "source": [
    "#Checking for missing data\n",
    "df.isnull().sum()"
   ]
  },
  {
   "cell_type": "code",
   "execution_count": 367,
   "id": "1d04b9a6",
   "metadata": {
    "scrolled": true
   },
   "outputs": [
    {
     "data": {
      "text/plain": [
       "0"
      ]
     },
     "execution_count": 367,
     "metadata": {},
     "output_type": "execute_result"
    }
   ],
   "source": [
    "df.duplicated().sum()"
   ]
  },
  {
   "cell_type": "code",
   "execution_count": 368,
   "id": "30093732",
   "metadata": {
    "scrolled": true
   },
   "outputs": [
    {
     "data": {
      "text/plain": [
       "male      423\n",
       "female     77\n",
       "Name: Gender, dtype: int64"
      ]
     },
     "execution_count": 368,
     "metadata": {},
     "output_type": "execute_result"
    }
   ],
   "source": [
    "df['Gender'].value_counts()"
   ]
  },
  {
   "cell_type": "code",
   "execution_count": 369,
   "id": "4e0d9090",
   "metadata": {
    "scrolled": true
   },
   "outputs": [
    {
     "data": {
      "text/plain": [
       "college                 220\n",
       "High School or Below    209\n",
       "Bechalor                 67\n",
       "Master or Above           4\n",
       "Name: education, dtype: int64"
      ]
     },
     "execution_count": 369,
     "metadata": {},
     "output_type": "execute_result"
    }
   ],
   "source": [
    "df['education'].value_counts()"
   ]
  },
  {
   "cell_type": "code",
   "execution_count": 370,
   "id": "71ef2e6c",
   "metadata": {
    "scrolled": true
   },
   "outputs": [
    {
     "data": {
      "text/plain": [
       "PAIDOFF               300\n",
       "COLLECTION            100\n",
       "COLLECTION_PAIDOFF    100\n",
       "Name: loan_status, dtype: int64"
      ]
     },
     "execution_count": 370,
     "metadata": {},
     "output_type": "execute_result"
    }
   ],
   "source": [
    "df['loan_status'].value_counts()"
   ]
  },
  {
   "cell_type": "code",
   "execution_count": 371,
   "id": "6ebef5e4",
   "metadata": {
    "scrolled": true
   },
   "outputs": [
    {
     "data": {
      "text/plain": [
       "1000    377\n",
       "800     111\n",
       "300       6\n",
       "500       3\n",
       "900       2\n",
       "700       1\n",
       "Name: Principal, dtype: int64"
      ]
     },
     "execution_count": 371,
     "metadata": {},
     "output_type": "execute_result"
    }
   ],
   "source": [
    "df['Principal'].value_counts()"
   ]
  },
  {
   "cell_type": "code",
   "execution_count": 372,
   "id": "fc423946",
   "metadata": {
    "scrolled": true
   },
   "outputs": [
    {
     "data": {
      "text/plain": [
       "30    272\n",
       "15    207\n",
       "7      21\n",
       "Name: terms, dtype: int64"
      ]
     },
     "execution_count": 372,
     "metadata": {},
     "output_type": "execute_result"
    }
   ],
   "source": [
    "df['terms'].value_counts()"
   ]
  },
  {
   "cell_type": "code",
   "execution_count": 373,
   "id": "04cfa67d",
   "metadata": {
    "scrolled": true
   },
   "outputs": [
    {
     "data": {
      "text/plain": [
       "26    46\n",
       "29    42\n",
       "27    38\n",
       "30    37\n",
       "28    32\n",
       "33    30\n",
       "35    26\n",
       "34    25\n",
       "24    23\n",
       "31    22\n",
       "32    20\n",
       "25    20\n",
       "37    19\n",
       "38    19\n",
       "36    14\n",
       "23    10\n",
       "39    10\n",
       "40     8\n",
       "22     8\n",
       "21     7\n",
       "41     5\n",
       "46     5\n",
       "45     5\n",
       "43     5\n",
       "44     4\n",
       "50     4\n",
       "20     4\n",
       "42     4\n",
       "47     3\n",
       "19     2\n",
       "51     1\n",
       "18     1\n",
       "49     1\n",
       "Name: age, dtype: int64"
      ]
     },
     "execution_count": 373,
     "metadata": {},
     "output_type": "execute_result"
    }
   ],
   "source": [
    "df['age'].value_counts()"
   ]
  },
  {
   "cell_type": "markdown",
   "id": "f0af7099",
   "metadata": {},
   "source": [
    "### 2. Cleaning and Organising the Dataset"
   ]
  },
  {
   "cell_type": "code",
   "execution_count": 374,
   "id": "56cf56ec",
   "metadata": {
    "scrolled": true
   },
   "outputs": [],
   "source": [
    "# Converting the following Columns to Datetime Format\n",
    "df['effective_date'] = pd.to_datetime(df['effective_date'])\n",
    "df['due_date'] = pd.to_datetime(df['due_date'])\n",
    "df['paid_off_time'] = pd.to_datetime(df['paid_off_time']).dt.date\n",
    "df['paid_off_time'] = pd.to_datetime(df['paid_off_time'])"
   ]
  },
  {
   "cell_type": "code",
   "execution_count": 375,
   "id": "583c8ad5",
   "metadata": {
    "scrolled": true
   },
   "outputs": [
    {
     "name": "stdout",
     "output_type": "stream",
     "text": [
      "<class 'pandas.core.frame.DataFrame'>\n",
      "RangeIndex: 500 entries, 0 to 499\n",
      "Data columns (total 11 columns):\n",
      " #   Column          Non-Null Count  Dtype         \n",
      "---  ------          --------------  -----         \n",
      " 0   Loan_ID         500 non-null    object        \n",
      " 1   loan_status     500 non-null    object        \n",
      " 2   Principal       500 non-null    int64         \n",
      " 3   terms           500 non-null    int64         \n",
      " 4   effective_date  500 non-null    datetime64[ns]\n",
      " 5   due_date        500 non-null    datetime64[ns]\n",
      " 6   paid_off_time   400 non-null    datetime64[ns]\n",
      " 7   past_due_days   200 non-null    float64       \n",
      " 8   age             500 non-null    int64         \n",
      " 9   education       500 non-null    object        \n",
      " 10  Gender          500 non-null    object        \n",
      "dtypes: datetime64[ns](3), float64(1), int64(3), object(4)\n",
      "memory usage: 43.1+ KB\n"
     ]
    }
   ],
   "source": [
    "df.info()"
   ]
  },
  {
   "cell_type": "code",
   "execution_count": 376,
   "id": "3e54a865",
   "metadata": {
    "scrolled": true
   },
   "outputs": [
    {
     "data": {
      "text/plain": [
       "Loan_ID             0\n",
       "loan_status         0\n",
       "Principal           0\n",
       "terms               0\n",
       "effective_date      0\n",
       "due_date            0\n",
       "paid_off_time     100\n",
       "past_due_days     300\n",
       "age                 0\n",
       "education           0\n",
       "Gender              0\n",
       "dtype: int64"
      ]
     },
     "execution_count": 376,
     "metadata": {},
     "output_type": "execute_result"
    }
   ],
   "source": [
    "df.isnull().sum()"
   ]
  },
  {
   "cell_type": "code",
   "execution_count": 377,
   "id": "1d61faf4",
   "metadata": {
    "scrolled": true
   },
   "outputs": [
    {
     "data": {
      "text/plain": [
       "Loan_ID             0\n",
       "loan_status         0\n",
       "Principal           0\n",
       "terms               0\n",
       "effective_date      0\n",
       "due_date            0\n",
       "paid_off_time     100\n",
       "past_due_days     300\n",
       "age                 0\n",
       "education           0\n",
       "Gender              0\n",
       "dtype: int64"
      ]
     },
     "execution_count": 377,
     "metadata": {},
     "output_type": "execute_result"
    }
   ],
   "source": [
    "df.isnull().sum()"
   ]
  },
  {
   "cell_type": "code",
   "execution_count": 378,
   "id": "7ec1403e",
   "metadata": {
    "scrolled": true
   },
   "outputs": [],
   "source": [
    "df['paid_off_time'].fillna(0,inplace=True)"
   ]
  },
  {
   "cell_type": "code",
   "execution_count": 379,
   "id": "1329f067",
   "metadata": {
    "scrolled": true
   },
   "outputs": [],
   "source": [
    "# Dropping the Loan_ID column because its irrelevant\n",
    "df.drop('Loan_ID', axis=1, inplace=True)"
   ]
  },
  {
   "cell_type": "code",
   "execution_count": 380,
   "id": "6908944a",
   "metadata": {
    "scrolled": true
   },
   "outputs": [
    {
     "data": {
      "text/plain": [
       "loan_status         0\n",
       "Principal           0\n",
       "terms               0\n",
       "effective_date      0\n",
       "due_date            0\n",
       "paid_off_time       0\n",
       "past_due_days     300\n",
       "age                 0\n",
       "education           0\n",
       "Gender              0\n",
       "dtype: int64"
      ]
     },
     "execution_count": 380,
     "metadata": {},
     "output_type": "execute_result"
    }
   ],
   "source": [
    "df.isnull().sum()"
   ]
  },
  {
   "cell_type": "code",
   "execution_count": 381,
   "id": "8c8635dc",
   "metadata": {
    "scrolled": true
   },
   "outputs": [
    {
     "data": {
      "text/html": [
       "<div>\n",
       "<style scoped>\n",
       "    .dataframe tbody tr th:only-of-type {\n",
       "        vertical-align: middle;\n",
       "    }\n",
       "\n",
       "    .dataframe tbody tr th {\n",
       "        vertical-align: top;\n",
       "    }\n",
       "\n",
       "    .dataframe thead th {\n",
       "        text-align: right;\n",
       "    }\n",
       "</style>\n",
       "<table border=\"1\" class=\"dataframe\">\n",
       "  <thead>\n",
       "    <tr style=\"text-align: right;\">\n",
       "      <th></th>\n",
       "      <th>loan_status</th>\n",
       "      <th>Principal</th>\n",
       "      <th>terms</th>\n",
       "      <th>effective_date</th>\n",
       "      <th>due_date</th>\n",
       "      <th>paid_off_time</th>\n",
       "      <th>past_due_days</th>\n",
       "      <th>age</th>\n",
       "      <th>education</th>\n",
       "      <th>Gender</th>\n",
       "    </tr>\n",
       "  </thead>\n",
       "  <tbody>\n",
       "    <tr>\n",
       "      <th>495</th>\n",
       "      <td>COLLECTION_PAIDOFF</td>\n",
       "      <td>1000</td>\n",
       "      <td>30</td>\n",
       "      <td>2016-09-12</td>\n",
       "      <td>2016-10-11</td>\n",
       "      <td>2016-10-14 00:00:00</td>\n",
       "      <td>3.0</td>\n",
       "      <td>28</td>\n",
       "      <td>High School or Below</td>\n",
       "      <td>male</td>\n",
       "    </tr>\n",
       "    <tr>\n",
       "      <th>496</th>\n",
       "      <td>COLLECTION_PAIDOFF</td>\n",
       "      <td>1000</td>\n",
       "      <td>15</td>\n",
       "      <td>2016-09-12</td>\n",
       "      <td>2016-09-26</td>\n",
       "      <td>2016-10-10 00:00:00</td>\n",
       "      <td>14.0</td>\n",
       "      <td>26</td>\n",
       "      <td>High School or Below</td>\n",
       "      <td>male</td>\n",
       "    </tr>\n",
       "    <tr>\n",
       "      <th>497</th>\n",
       "      <td>COLLECTION_PAIDOFF</td>\n",
       "      <td>800</td>\n",
       "      <td>15</td>\n",
       "      <td>2016-09-12</td>\n",
       "      <td>2016-09-26</td>\n",
       "      <td>2016-09-29 00:00:00</td>\n",
       "      <td>3.0</td>\n",
       "      <td>30</td>\n",
       "      <td>college</td>\n",
       "      <td>male</td>\n",
       "    </tr>\n",
       "    <tr>\n",
       "      <th>498</th>\n",
       "      <td>COLLECTION_PAIDOFF</td>\n",
       "      <td>1000</td>\n",
       "      <td>30</td>\n",
       "      <td>2016-09-12</td>\n",
       "      <td>2016-11-10</td>\n",
       "      <td>2016-11-11 00:00:00</td>\n",
       "      <td>1.0</td>\n",
       "      <td>38</td>\n",
       "      <td>college</td>\n",
       "      <td>female</td>\n",
       "    </tr>\n",
       "    <tr>\n",
       "      <th>499</th>\n",
       "      <td>COLLECTION_PAIDOFF</td>\n",
       "      <td>1000</td>\n",
       "      <td>30</td>\n",
       "      <td>2016-09-12</td>\n",
       "      <td>2016-10-11</td>\n",
       "      <td>2016-10-19 00:00:00</td>\n",
       "      <td>8.0</td>\n",
       "      <td>28</td>\n",
       "      <td>High School or Below</td>\n",
       "      <td>male</td>\n",
       "    </tr>\n",
       "  </tbody>\n",
       "</table>\n",
       "</div>"
      ],
      "text/plain": [
       "            loan_status  Principal  terms effective_date   due_date  \\\n",
       "495  COLLECTION_PAIDOFF       1000     30     2016-09-12 2016-10-11   \n",
       "496  COLLECTION_PAIDOFF       1000     15     2016-09-12 2016-09-26   \n",
       "497  COLLECTION_PAIDOFF        800     15     2016-09-12 2016-09-26   \n",
       "498  COLLECTION_PAIDOFF       1000     30     2016-09-12 2016-11-10   \n",
       "499  COLLECTION_PAIDOFF       1000     30     2016-09-12 2016-10-11   \n",
       "\n",
       "           paid_off_time  past_due_days  age             education  Gender  \n",
       "495  2016-10-14 00:00:00            3.0   28  High School or Below    male  \n",
       "496  2016-10-10 00:00:00           14.0   26  High School or Below    male  \n",
       "497  2016-09-29 00:00:00            3.0   30               college    male  \n",
       "498  2016-11-11 00:00:00            1.0   38               college  female  \n",
       "499  2016-10-19 00:00:00            8.0   28  High School or Below    male  "
      ]
     },
     "execution_count": 381,
     "metadata": {},
     "output_type": "execute_result"
    }
   ],
   "source": [
    "df.tail()"
   ]
  },
  {
   "cell_type": "code",
   "execution_count": 382,
   "id": "d4c745e6",
   "metadata": {
    "scrolled": true
   },
   "outputs": [],
   "source": [
    "#correcting typographical error\n",
    "df['education']= df['education'].replace('Bechalor','Bachelor')"
   ]
  },
  {
   "cell_type": "markdown",
   "id": "4410f4c0",
   "metadata": {},
   "source": [
    "##### Rearranging the columns"
   ]
  },
  {
   "cell_type": "code",
   "execution_count": 383,
   "id": "7f9f535c",
   "metadata": {
    "scrolled": true
   },
   "outputs": [
    {
     "data": {
      "text/plain": [
       "Index(['loan_status', 'Principal', 'terms', 'effective_date', 'due_date',\n",
       "       'paid_off_time', 'past_due_days', 'age', 'education', 'Gender'],\n",
       "      dtype='object')"
      ]
     },
     "execution_count": 383,
     "metadata": {},
     "output_type": "execute_result"
    }
   ],
   "source": [
    "df.columns"
   ]
  },
  {
   "cell_type": "code",
   "execution_count": 384,
   "id": "2dc3bff3",
   "metadata": {
    "scrolled": true
   },
   "outputs": [],
   "source": [
    "df = df[['loan_status', 'Principal', 'terms', 'effective_date', 'due_date',\n",
    "       'paid_off_time','past_due_days', 'age', 'education', 'Gender',]]"
   ]
  },
  {
   "cell_type": "code",
   "execution_count": 385,
   "id": "d82813a0",
   "metadata": {
    "scrolled": true
   },
   "outputs": [
    {
     "data": {
      "text/html": [
       "<div>\n",
       "<style scoped>\n",
       "    .dataframe tbody tr th:only-of-type {\n",
       "        vertical-align: middle;\n",
       "    }\n",
       "\n",
       "    .dataframe tbody tr th {\n",
       "        vertical-align: top;\n",
       "    }\n",
       "\n",
       "    .dataframe thead th {\n",
       "        text-align: right;\n",
       "    }\n",
       "</style>\n",
       "<table border=\"1\" class=\"dataframe\">\n",
       "  <thead>\n",
       "    <tr style=\"text-align: right;\">\n",
       "      <th></th>\n",
       "      <th>loan_status</th>\n",
       "      <th>Principal</th>\n",
       "      <th>terms</th>\n",
       "      <th>effective_date</th>\n",
       "      <th>due_date</th>\n",
       "      <th>paid_off_time</th>\n",
       "      <th>past_due_days</th>\n",
       "      <th>age</th>\n",
       "      <th>education</th>\n",
       "      <th>Gender</th>\n",
       "    </tr>\n",
       "  </thead>\n",
       "  <tbody>\n",
       "    <tr>\n",
       "      <th>0</th>\n",
       "      <td>PAIDOFF</td>\n",
       "      <td>1000</td>\n",
       "      <td>30</td>\n",
       "      <td>2016-09-08</td>\n",
       "      <td>2016-10-07</td>\n",
       "      <td>2016-09-14 00:00:00</td>\n",
       "      <td>NaN</td>\n",
       "      <td>45</td>\n",
       "      <td>High School or Below</td>\n",
       "      <td>male</td>\n",
       "    </tr>\n",
       "    <tr>\n",
       "      <th>1</th>\n",
       "      <td>PAIDOFF</td>\n",
       "      <td>1000</td>\n",
       "      <td>30</td>\n",
       "      <td>2016-09-08</td>\n",
       "      <td>2016-10-07</td>\n",
       "      <td>2016-10-07 00:00:00</td>\n",
       "      <td>NaN</td>\n",
       "      <td>50</td>\n",
       "      <td>Bachelor</td>\n",
       "      <td>female</td>\n",
       "    </tr>\n",
       "    <tr>\n",
       "      <th>2</th>\n",
       "      <td>PAIDOFF</td>\n",
       "      <td>1000</td>\n",
       "      <td>30</td>\n",
       "      <td>2016-09-08</td>\n",
       "      <td>2016-10-07</td>\n",
       "      <td>2016-09-25 00:00:00</td>\n",
       "      <td>NaN</td>\n",
       "      <td>33</td>\n",
       "      <td>Bachelor</td>\n",
       "      <td>female</td>\n",
       "    </tr>\n",
       "    <tr>\n",
       "      <th>3</th>\n",
       "      <td>PAIDOFF</td>\n",
       "      <td>1000</td>\n",
       "      <td>15</td>\n",
       "      <td>2016-09-08</td>\n",
       "      <td>2016-09-22</td>\n",
       "      <td>2016-09-22 00:00:00</td>\n",
       "      <td>NaN</td>\n",
       "      <td>27</td>\n",
       "      <td>college</td>\n",
       "      <td>male</td>\n",
       "    </tr>\n",
       "    <tr>\n",
       "      <th>4</th>\n",
       "      <td>PAIDOFF</td>\n",
       "      <td>1000</td>\n",
       "      <td>30</td>\n",
       "      <td>2016-09-09</td>\n",
       "      <td>2016-10-08</td>\n",
       "      <td>2016-09-23 00:00:00</td>\n",
       "      <td>NaN</td>\n",
       "      <td>28</td>\n",
       "      <td>college</td>\n",
       "      <td>female</td>\n",
       "    </tr>\n",
       "  </tbody>\n",
       "</table>\n",
       "</div>"
      ],
      "text/plain": [
       "  loan_status  Principal  terms effective_date   due_date  \\\n",
       "0     PAIDOFF       1000     30     2016-09-08 2016-10-07   \n",
       "1     PAIDOFF       1000     30     2016-09-08 2016-10-07   \n",
       "2     PAIDOFF       1000     30     2016-09-08 2016-10-07   \n",
       "3     PAIDOFF       1000     15     2016-09-08 2016-09-22   \n",
       "4     PAIDOFF       1000     30     2016-09-09 2016-10-08   \n",
       "\n",
       "         paid_off_time  past_due_days  age             education  Gender  \n",
       "0  2016-09-14 00:00:00            NaN   45  High School or Below    male  \n",
       "1  2016-10-07 00:00:00            NaN   50              Bachelor  female  \n",
       "2  2016-09-25 00:00:00            NaN   33              Bachelor  female  \n",
       "3  2016-09-22 00:00:00            NaN   27               college    male  \n",
       "4  2016-09-23 00:00:00            NaN   28               college  female  "
      ]
     },
     "execution_count": 385,
     "metadata": {},
     "output_type": "execute_result"
    }
   ],
   "source": [
    "df.head()"
   ]
  },
  {
   "cell_type": "markdown",
   "id": "9ea49d04",
   "metadata": {},
   "source": [
    "### 3. Research Questions\n",
    "0. General Client Demography\n",
    "1. What is the Loan Status Distribution(age, education, gender)\n",
    "2. What is the Terms relationship with Principal\n",
    "3. What is The principal amount relationship with gender and age\n",
    "4. What is the Percentage of Defaulters#change size of chart"
   ]
  },
  {
   "cell_type": "markdown",
   "id": "bf670e46",
   "metadata": {},
   "source": [
    "### 4. ANSWERS"
   ]
  },
  {
   "cell_type": "markdown",
   "id": "24d6ea95",
   "metadata": {},
   "source": [
    "**0. General Client Demography**\n"
   ]
  },
  {
   "cell_type": "markdown",
   "id": "ed5d3b1d",
   "metadata": {},
   "source": [
    "**AGE**"
   ]
  },
  {
   "cell_type": "code",
   "execution_count": 386,
   "id": "d0d2acfb",
   "metadata": {
    "scrolled": true
   },
   "outputs": [
    {
     "data": {
      "image/png": "[encoded data removed]",
      "text/plain": [
       "<Figure size 1000x400 with 1 Axes>"
      ]
     },
     "metadata": {},
     "output_type": "display_data"
    }
   ],
   "source": [
    "#univariate\n",
    "#change size of chart\n",
    "plt.figure(figsize=(10,4)) \n",
    "#add title\n",
    "plt.title(\"Age Distribution of Clients\")\n",
    "#rotation\n",
    "plt.xticks(rotation=90)\n",
    "sns.countplot(x = 'age', data = df, palette='pastel');"
   ]
  },
  {
   "cell_type": "markdown",
   "id": "e674873b",
   "metadata": {},
   "source": [
    "**GENDER**"
   ]
  },
  {
   "cell_type": "code",
   "execution_count": 387,
   "id": "d8557d0e",
   "metadata": {
    "scrolled": false
   },
   "outputs": [
    {
     "data": {
      "image/png": "[encoded data removed]",
      "text/plain": [
       "<Figure size 1000x400 with 1 Axes>"
      ]
     },
     "metadata": {},
     "output_type": "display_data"
    }
   ],
   "source": [
    "#univariate\n",
    "#change size of chart\n",
    "plt.figure(figsize=(10,4)) \n",
    "#add title\n",
    "plt.title(\"Gender Distribution of Clients\")\n",
    "\n",
    "sns.countplot(x = 'Gender', data = df, palette='pastel');"
   ]
  },
  {
   "cell_type": "markdown",
   "id": "a1ef0736",
   "metadata": {},
   "source": [
    "The graph Above shows that Males have a higher ratio of loans"
   ]
  },
  {
   "cell_type": "markdown",
   "id": "90a3bfd1",
   "metadata": {},
   "source": [
    "**EDUCATIONAL STATUS**"
   ]
  },
  {
   "cell_type": "code",
   "execution_count": 388,
   "id": "609d8542",
   "metadata": {
    "scrolled": false
   },
   "outputs": [
    {
     "data": {
      "image/png": "[encoded data removed]",
      "text/plain": [
       "<Figure size 1100x500 with 1 Axes>"
      ]
     },
     "metadata": {},
     "output_type": "display_data"
    }
   ],
   "source": [
    "#univariate\n",
    "#change size of chart\n",
    "plt.figure(figsize=(11,5)) \n",
    "#add title\n",
    "plt.title(\"Educational Distribution of Clients\")\n",
    "\n",
    "sns.countplot(x = 'education', data = df, palette='pastel');"
   ]
  },
  {
   "cell_type": "markdown",
   "id": "c898b4d3",
   "metadata": {},
   "source": [
    "The visualisation above shows that most of the loans applied are from college and high school, with the least from masters and bachelor\n",
    "\n",
    "Which Could be due to application and admission into colleges for study\n",
    "\n",
    "Very few loan applications for students going for Masters and above degree is observed which might be due to either repayment of the  undergraduate study loans they took"
   ]
  },
  {
   "cell_type": "markdown",
   "id": "f732c39b",
   "metadata": {},
   "source": [
    "**LOAN STATUS**"
   ]
  },
  {
   "cell_type": "code",
   "execution_count": 389,
   "id": "f6e3f0d5",
   "metadata": {
    "scrolled": true
   },
   "outputs": [
    {
     "data": {
      "text/html": [
       "<div>\n",
       "<style scoped>\n",
       "    .dataframe tbody tr th:only-of-type {\n",
       "        vertical-align: middle;\n",
       "    }\n",
       "\n",
       "    .dataframe tbody tr th {\n",
       "        vertical-align: top;\n",
       "    }\n",
       "\n",
       "    .dataframe thead th {\n",
       "        text-align: right;\n",
       "    }\n",
       "</style>\n",
       "<table border=\"1\" class=\"dataframe\">\n",
       "  <thead>\n",
       "    <tr style=\"text-align: right;\">\n",
       "      <th></th>\n",
       "      <th>loan_status</th>\n",
       "    </tr>\n",
       "  </thead>\n",
       "  <tbody>\n",
       "    <tr>\n",
       "      <th>PAIDOFF</th>\n",
       "      <td>300</td>\n",
       "    </tr>\n",
       "    <tr>\n",
       "      <th>COLLECTION</th>\n",
       "      <td>100</td>\n",
       "    </tr>\n",
       "    <tr>\n",
       "      <th>COLLECTION_PAIDOFF</th>\n",
       "      <td>100</td>\n",
       "    </tr>\n",
       "  </tbody>\n",
       "</table>\n",
       "</div>"
      ],
      "text/plain": [
       "                    loan_status\n",
       "PAIDOFF                     300\n",
       "COLLECTION                  100\n",
       "COLLECTION_PAIDOFF          100"
      ]
     },
     "execution_count": 389,
     "metadata": {},
     "output_type": "execute_result"
    }
   ],
   "source": [
    "loan_status = df['loan_status'].value_counts()\n",
    "pd.DataFrame(loan_status)"
   ]
  },
  {
   "cell_type": "code",
   "execution_count": 390,
   "id": "8df845a9",
   "metadata": {
    "scrolled": true
   },
   "outputs": [
    {
     "data": {
      "text/plain": [
       "Index(['PAIDOFF', 'COLLECTION', 'COLLECTION_PAIDOFF'], dtype='object')"
      ]
     },
     "execution_count": 390,
     "metadata": {},
     "output_type": "execute_result"
    }
   ],
   "source": [
    "loan_status.index"
   ]
  },
  {
   "cell_type": "code",
   "execution_count": 391,
   "id": "9d89e6c9",
   "metadata": {
    "scrolled": true
   },
   "outputs": [
    {
     "data": {
      "image/png": "[encoded data removed]",
      "text/plain": [
       "<Figure size 640x480 with 1 Axes>"
      ]
     },
     "metadata": {},
     "output_type": "display_data"
    }
   ],
   "source": [
    "#Univariate\n",
    "plt.title('Loan Status Distribution')\n",
    "plt.pie(loan_status, colors=[\"blue\",\"green\",\"yellow\"], autopct='%1.1f%%', explode=[0.3,0,0], startangle=90);\n",
    "plt.legend(loan_status.index, bbox_to_anchor=(0.1,0.3));\n"
   ]
  },
  {
   "cell_type": "markdown",
   "id": "2f1664d7",
   "metadata": {},
   "source": [
    "The Chart above shows that 60% of loans are in PAIDOFF State while, 20 % are in Collection and 20% are in CollectionPaidOff status"
   ]
  },
  {
   "cell_type": "markdown",
   "id": "bba6cd5a",
   "metadata": {},
   "source": [
    "**TERMS**"
   ]
  },
  {
   "cell_type": "code",
   "execution_count": 392,
   "id": "085e5039",
   "metadata": {
    "scrolled": false
   },
   "outputs": [
    {
     "data": {
      "image/png": "[encoded data removed]",
      "text/plain": [
       "<Figure size 1000x400 with 1 Axes>"
      ]
     },
     "metadata": {},
     "output_type": "display_data"
    }
   ],
   "source": [
    "#univariate\n",
    "#change size of chart\n",
    "plt.figure(figsize=(10,4)) \n",
    "#add title\n",
    "plt.title(\"TERMS\")\n",
    "#rotation\n",
    "plt.xticks(rotation=90)\n",
    "sns.countplot(x = 'terms', data = df, palette='pastel');"
   ]
  },
  {
   "cell_type": "markdown",
   "id": "b39d4dd2",
   "metadata": {},
   "source": [
    "30days Terms is the highest sought which might be due to monthly salary payment"
   ]
  },
  {
   "cell_type": "markdown",
   "id": "f8a03576",
   "metadata": {},
   "source": [
    "**PRINCIPAL**"
   ]
  },
  {
   "cell_type": "code",
   "execution_count": 393,
   "id": "6ccca04a",
   "metadata": {
    "scrolled": false
   },
   "outputs": [
    {
     "data": {
      "image/png": "[encoded data removed]",
      "text/plain": [
       "<Figure size 1000x400 with 1 Axes>"
      ]
     },
     "metadata": {},
     "output_type": "display_data"
    }
   ],
   "source": [
    "#univariate\n",
    "#change size of chart\n",
    "plt.figure(figsize=(10,4)) \n",
    "#add title\n",
    "plt.title(\"PRINCIPAL\")\n",
    "#rotation\n",
    "plt.xticks(rotation=90)\n",
    "sns.countplot(x = 'Principal', data = df, palette='pastel');"
   ]
  },
  {
   "cell_type": "markdown",
   "id": "004429bd",
   "metadata": {},
   "source": [
    "### 1. What is the Loan Status Distribution(age, education, gender,terms)\n"
   ]
  },
  {
   "cell_type": "markdown",
   "id": "15aefd8c",
   "metadata": {},
   "source": [
    "**LOAN STATUS VS AGE**"
   ]
  },
  {
   "cell_type": "code",
   "execution_count": 394,
   "id": "c09f4efb",
   "metadata": {
    "scrolled": true
   },
   "outputs": [
    {
     "data": {
      "text/html": [
       "<div>\n",
       "<style scoped>\n",
       "    .dataframe tbody tr th:only-of-type {\n",
       "        vertical-align: middle;\n",
       "    }\n",
       "\n",
       "    .dataframe tbody tr th {\n",
       "        vertical-align: top;\n",
       "    }\n",
       "\n",
       "    .dataframe thead th {\n",
       "        text-align: right;\n",
       "    }\n",
       "</style>\n",
       "<table border=\"1\" class=\"dataframe\">\n",
       "  <thead>\n",
       "    <tr style=\"text-align: right;\">\n",
       "      <th></th>\n",
       "      <th>age</th>\n",
       "    </tr>\n",
       "  </thead>\n",
       "  <tbody>\n",
       "    <tr>\n",
       "      <th>26</th>\n",
       "      <td>46</td>\n",
       "    </tr>\n",
       "    <tr>\n",
       "      <th>29</th>\n",
       "      <td>42</td>\n",
       "    </tr>\n",
       "    <tr>\n",
       "      <th>27</th>\n",
       "      <td>38</td>\n",
       "    </tr>\n",
       "    <tr>\n",
       "      <th>30</th>\n",
       "      <td>37</td>\n",
       "    </tr>\n",
       "    <tr>\n",
       "      <th>28</th>\n",
       "      <td>32</td>\n",
       "    </tr>\n",
       "    <tr>\n",
       "      <th>33</th>\n",
       "      <td>30</td>\n",
       "    </tr>\n",
       "    <tr>\n",
       "      <th>35</th>\n",
       "      <td>26</td>\n",
       "    </tr>\n",
       "    <tr>\n",
       "      <th>34</th>\n",
       "      <td>25</td>\n",
       "    </tr>\n",
       "    <tr>\n",
       "      <th>24</th>\n",
       "      <td>23</td>\n",
       "    </tr>\n",
       "    <tr>\n",
       "      <th>31</th>\n",
       "      <td>22</td>\n",
       "    </tr>\n",
       "    <tr>\n",
       "      <th>32</th>\n",
       "      <td>20</td>\n",
       "    </tr>\n",
       "    <tr>\n",
       "      <th>25</th>\n",
       "      <td>20</td>\n",
       "    </tr>\n",
       "    <tr>\n",
       "      <th>37</th>\n",
       "      <td>19</td>\n",
       "    </tr>\n",
       "    <tr>\n",
       "      <th>38</th>\n",
       "      <td>19</td>\n",
       "    </tr>\n",
       "    <tr>\n",
       "      <th>36</th>\n",
       "      <td>14</td>\n",
       "    </tr>\n",
       "    <tr>\n",
       "      <th>23</th>\n",
       "      <td>10</td>\n",
       "    </tr>\n",
       "    <tr>\n",
       "      <th>39</th>\n",
       "      <td>10</td>\n",
       "    </tr>\n",
       "    <tr>\n",
       "      <th>40</th>\n",
       "      <td>8</td>\n",
       "    </tr>\n",
       "    <tr>\n",
       "      <th>22</th>\n",
       "      <td>8</td>\n",
       "    </tr>\n",
       "    <tr>\n",
       "      <th>21</th>\n",
       "      <td>7</td>\n",
       "    </tr>\n",
       "    <tr>\n",
       "      <th>41</th>\n",
       "      <td>5</td>\n",
       "    </tr>\n",
       "    <tr>\n",
       "      <th>46</th>\n",
       "      <td>5</td>\n",
       "    </tr>\n",
       "    <tr>\n",
       "      <th>45</th>\n",
       "      <td>5</td>\n",
       "    </tr>\n",
       "    <tr>\n",
       "      <th>43</th>\n",
       "      <td>5</td>\n",
       "    </tr>\n",
       "    <tr>\n",
       "      <th>44</th>\n",
       "      <td>4</td>\n",
       "    </tr>\n",
       "    <tr>\n",
       "      <th>50</th>\n",
       "      <td>4</td>\n",
       "    </tr>\n",
       "    <tr>\n",
       "      <th>20</th>\n",
       "      <td>4</td>\n",
       "    </tr>\n",
       "    <tr>\n",
       "      <th>42</th>\n",
       "      <td>4</td>\n",
       "    </tr>\n",
       "    <tr>\n",
       "      <th>47</th>\n",
       "      <td>3</td>\n",
       "    </tr>\n",
       "    <tr>\n",
       "      <th>19</th>\n",
       "      <td>2</td>\n",
       "    </tr>\n",
       "    <tr>\n",
       "      <th>51</th>\n",
       "      <td>1</td>\n",
       "    </tr>\n",
       "    <tr>\n",
       "      <th>18</th>\n",
       "      <td>1</td>\n",
       "    </tr>\n",
       "    <tr>\n",
       "      <th>49</th>\n",
       "      <td>1</td>\n",
       "    </tr>\n",
       "  </tbody>\n",
       "</table>\n",
       "</div>"
      ],
      "text/plain": [
       "    age\n",
       "26   46\n",
       "29   42\n",
       "27   38\n",
       "30   37\n",
       "28   32\n",
       "33   30\n",
       "35   26\n",
       "34   25\n",
       "24   23\n",
       "31   22\n",
       "32   20\n",
       "25   20\n",
       "37   19\n",
       "38   19\n",
       "36   14\n",
       "23   10\n",
       "39   10\n",
       "40    8\n",
       "22    8\n",
       "21    7\n",
       "41    5\n",
       "46    5\n",
       "45    5\n",
       "43    5\n",
       "44    4\n",
       "50    4\n",
       "20    4\n",
       "42    4\n",
       "47    3\n",
       "19    2\n",
       "51    1\n",
       "18    1\n",
       "49    1"
      ]
     },
     "execution_count": 394,
     "metadata": {},
     "output_type": "execute_result"
    }
   ],
   "source": [
    "#Age\n",
    "Age = df['age'].value_counts()\n",
    "pd.DataFrame(Age)\n"
   ]
  },
  {
   "cell_type": "code",
   "execution_count": 395,
   "id": "de5ec902",
   "metadata": {
    "scrolled": true
   },
   "outputs": [
    {
     "data": {
      "text/plain": [
       "loan_status  age\n",
       "COLLECTION   26     11\n",
       "             30      8\n",
       "             27      7\n",
       "             29      7\n",
       "             25      6\n",
       "                    ..\n",
       "PAIDOFF      19      2\n",
       "             46      2\n",
       "             41      1\n",
       "             47      1\n",
       "             51      1\n",
       "Name: age, Length: 83, dtype: int64"
      ]
     },
     "execution_count": 395,
     "metadata": {},
     "output_type": "execute_result"
    }
   ],
   "source": [
    "df.groupby('loan_status').age.value_counts()"
   ]
  },
  {
   "cell_type": "code",
   "execution_count": 396,
   "id": "4053bf35",
   "metadata": {
    "scrolled": true
   },
   "outputs": [
    {
     "data": {
      "image/png": "[encoded data removed]",
      "text/plain": [
       "<Figure size 1000x400 with 1 Axes>"
      ]
     },
     "metadata": {},
     "output_type": "display_data"
    }
   ],
   "source": [
    "# Bivariate chart\n",
    "\n",
    "#change size of chart\n",
    "plt.figure(figsize=(10,4)) \n",
    "#add title\n",
    "plt.title(\"Loan Status Distribution by AGE\")\n",
    "#add xlabel\n",
    "plt.xlabel('Age')\n",
    "#add ylabel\n",
    "plt.ylabel('Count')\n",
    "\n",
    "\n",
    "sns.barplot(data = df, x ='loan_status', y = 'age',palette ='pastel', errorbar=('ci', 0),estimator ='sum');"
   ]
  },
  {
   "cell_type": "markdown",
   "id": "036ca57a",
   "metadata": {},
   "source": [
    "**LOAN STATUS VS EDUCATION**"
   ]
  },
  {
   "cell_type": "code",
   "execution_count": 397,
   "id": "e18afd33",
   "metadata": {
    "scrolled": false
   },
   "outputs": [
    {
     "data": {
      "text/plain": [
       "loan_status         education           \n",
       "COLLECTION          High School or Below     49\n",
       "                    college                  39\n",
       "                    Bachelor                 11\n",
       "                    Master or Above           1\n",
       "COLLECTION_PAIDOFF  college                  48\n",
       "                    High School or Below     37\n",
       "                    Bachelor                 15\n",
       "PAIDOFF             college                 133\n",
       "                    High School or Below    123\n",
       "                    Bachelor                 41\n",
       "                    Master or Above           3\n",
       "Name: education, dtype: int64"
      ]
     },
     "execution_count": 397,
     "metadata": {},
     "output_type": "execute_result"
    }
   ],
   "source": [
    "df.groupby(by='loan_status').education.value_counts()"
   ]
  },
  {
   "cell_type": "code",
   "execution_count": 398,
   "id": "58c55059",
   "metadata": {
    "scrolled": true
   },
   "outputs": [
    {
     "data": {
      "image/png": "[encoded data removed]",
      "text/plain": [
       "<Figure size 1000x400 with 1 Axes>"
      ]
     },
     "metadata": {},
     "output_type": "display_data"
    }
   ],
   "source": [
    "#multivariate chart\n",
    "#change size of chart\n",
    "plt.figure(figsize=(10,4)) \n",
    "#add title\n",
    "plt.title(\"Loan Status Distribution by Education\")\n",
    "#add xlabel\n",
    "plt.xlabel('loan_status')\n",
    "#add ylabel\n",
    "plt.ylabel('Education')\n",
    "sns.countplot(data=df, x='loan_status', hue='education', palette='pastel');"
   ]
  },
  {
   "cell_type": "code",
   "execution_count": 399,
   "id": "773762f2",
   "metadata": {},
   "outputs": [
    {
     "data": {
      "text/plain": [
       "<Figure size 1500x500 with 0 Axes>"
      ]
     },
     "metadata": {},
     "output_type": "display_data"
    },
    {
     "data": {
      "image/png": "[encoded data removed]",
      "text/plain": [
       "<Figure size 1324x400 with 4 Axes>"
      ]
     },
     "metadata": {},
     "output_type": "display_data"
    }
   ],
   "source": [
    "plt.figure(figsize=(15,5));\n",
    "sns.catplot(x=\"Principal\", hue=\"loan_status\", col=\"education\", col_wrap=4,palette='pastel',\n",
    "                data=df, kind=\"count\",\n",
    "                 height=4, aspect=.7);"
   ]
  },
  {
   "cell_type": "markdown",
   "id": "1a9e06ec",
   "metadata": {},
   "source": [
    "**LOAN STATUS VS GENDER**"
   ]
  },
  {
   "cell_type": "code",
   "execution_count": 400,
   "id": "2f2670ee",
   "metadata": {
    "scrolled": true
   },
   "outputs": [
    {
     "data": {
      "text/plain": [
       "loan_status         Gender\n",
       "COLLECTION          male       90\n",
       "                    female     10\n",
       "COLLECTION_PAIDOFF  male       86\n",
       "                    female     14\n",
       "PAIDOFF             male      247\n",
       "                    female     53\n",
       "Name: Gender, dtype: int64"
      ]
     },
     "execution_count": 400,
     "metadata": {},
     "output_type": "execute_result"
    }
   ],
   "source": [
    "df.groupby(by='loan_status').Gender.value_counts()"
   ]
  },
  {
   "cell_type": "code",
   "execution_count": 401,
   "id": "734ec336",
   "metadata": {
    "scrolled": true
   },
   "outputs": [
    {
     "data": {
      "image/png": "[encoded data removed]",
      "text/plain": [
       "<Figure size 900x400 with 1 Axes>"
      ]
     },
     "metadata": {},
     "output_type": "display_data"
    }
   ],
   "source": [
    "# Multivariatevariate chart\n",
    "\n",
    "#change size of chart\n",
    "plt.figure(figsize=(9,4)) \n",
    "#add title\n",
    "plt.title(\"Loan Status Distribution by Gender\")\n",
    "#add xlabel\n",
    "plt.xlabel('loan_status')\n",
    "#add ylabel\n",
    "plt.ylabel('Education')\n",
    "\n",
    "sns.countplot(data = df, x= 'loan_status',hue='Gender',palette ='pastel');"
   ]
  },
  {
   "cell_type": "markdown",
   "id": "f9e2f1fb",
   "metadata": {},
   "source": [
    "**LOAN STATUS VS TERMS**"
   ]
  },
  {
   "cell_type": "code",
   "execution_count": 402,
   "id": "2fd96af9",
   "metadata": {},
   "outputs": [
    {
     "data": {
      "text/plain": [
       "loan_status         terms\n",
       "COLLECTION          30        59\n",
       "                    15        41\n",
       "COLLECTION_PAIDOFF  30        60\n",
       "                    15        39\n",
       "                    7          1\n",
       "PAIDOFF             30       153\n",
       "                    15       127\n",
       "                    7         20\n",
       "Name: terms, dtype: int64"
      ]
     },
     "execution_count": 402,
     "metadata": {},
     "output_type": "execute_result"
    }
   ],
   "source": [
    "df.groupby(by='loan_status').terms.value_counts()"
   ]
  },
  {
   "cell_type": "code",
   "execution_count": 403,
   "id": "5c5c9846",
   "metadata": {},
   "outputs": [
    {
     "data": {
      "image/png": "[encoded data removed]",
      "text/plain": [
       "<Figure size 900x400 with 1 Axes>"
      ]
     },
     "metadata": {},
     "output_type": "display_data"
    }
   ],
   "source": [
    "#change size of chart\n",
    "plt.figure(figsize=(9,4)) \n",
    "#add title\n",
    "plt.title(\"Loan Status Distribution by TERMS\")\n",
    "#add xlabel\n",
    "plt.xlabel('loan_status')\n",
    "#add ylabel\n",
    "plt.ylabel('Terms')\n",
    "sns.countplot(x=\"terms\", data=df , hue='loan_status', palette='pastel', linewidth=5);"
   ]
  },
  {
   "cell_type": "markdown",
   "id": "d5bd8ea3",
   "metadata": {},
   "source": [
    "### 2. What is the Terms relationship with Principal\n"
   ]
  },
  {
   "cell_type": "markdown",
   "id": "cd702089",
   "metadata": {},
   "source": [
    "**Terms vs Principal**"
   ]
  },
  {
   "cell_type": "code",
   "execution_count": 404,
   "id": "c6e3e5c9",
   "metadata": {
    "scrolled": true
   },
   "outputs": [
    {
     "data": {
      "text/plain": [
       "terms  Principal\n",
       "7      1000          11\n",
       "       300            6\n",
       "       800            2\n",
       "       500            1\n",
       "       900            1\n",
       "15     800          103\n",
       "       1000         100\n",
       "       500            2\n",
       "       700            1\n",
       "       900            1\n",
       "30     1000         266\n",
       "       800            6\n",
       "Name: Principal, dtype: int64"
      ]
     },
     "execution_count": 404,
     "metadata": {},
     "output_type": "execute_result"
    }
   ],
   "source": [
    "df.groupby(by='terms').Principal.value_counts()\n"
   ]
  },
  {
   "cell_type": "code",
   "execution_count": 405,
   "id": "590a886f",
   "metadata": {
    "scrolled": true
   },
   "outputs": [
    {
     "data": {
      "image/png": "[encoded data removed]",
      "text/plain": [
       "<Figure size 1000x400 with 1 Axes>"
      ]
     },
     "metadata": {},
     "output_type": "display_data"
    }
   ],
   "source": [
    "# Bivariate chart\n",
    "\n",
    "#change size of chart\n",
    "plt.figure(figsize=(10,4)) \n",
    "#add title\n",
    "plt.title(\"Terms VS Principal\")\n",
    "#add xlabel\n",
    "plt.xlabel('TERMS')\n",
    "#add ylabel\n",
    "plt.ylabel('PRINCIPAL')\n",
    "\n",
    "sns.countplot(data = df, x= 'terms', hue= 'Principal', palette ='pastel');"
   ]
  },
  {
   "cell_type": "markdown",
   "id": "b8d663d8",
   "metadata": {},
   "source": [
    "### 3. What is The principal amount relationship with gender and age"
   ]
  },
  {
   "cell_type": "code",
   "execution_count": 416,
   "id": "36c3ea97",
   "metadata": {},
   "outputs": [
    {
     "data": {
      "image/png": "[encoded data removed]",
      "text/plain": [
       "<Figure size 1000x400 with 1 Axes>"
      ]
     },
     "metadata": {},
     "output_type": "display_data"
    }
   ],
   "source": [
    "# Bivariate chart\n",
    "\n",
    "#change size of chart\n",
    "plt.figure(figsize=(10,4)) \n",
    "#add title\n",
    "plt.title(\"Principal VS Age based on Gender\")\n",
    "#add xlabel\n",
    "plt.xlabel('TERMS')\n",
    "#add ylabel\n",
    "plt.ylabel('Pastdue_days')\n",
    "\n",
    "sns.barplot(x=\"Principal\", y=\"age\",hue=\"Gender\" ,palette = 'pastel', errorbar=('ci', 0),  data=df);"
   ]
  },
  {
   "cell_type": "code",
   "execution_count": 409,
   "id": "15ee9851",
   "metadata": {},
   "outputs": [
    {
     "data": {
      "text/plain": [
       "<Figure size 2500x500 with 0 Axes>"
      ]
     },
     "metadata": {},
     "output_type": "display_data"
    },
    {
     "data": {
      "image/png": "[encoded data removed]",
      "text/plain": [
       "<Figure size 764x400 with 2 Axes>"
      ]
     },
     "metadata": {},
     "output_type": "display_data"
    }
   ],
   "source": [
    "plt.figure(figsize=(25,5));\n",
    "sns.catplot(x=\"Principal\", hue=\"loan_status\", col=\"Gender\",palette ='pastel',\n",
    "                data=df, kind=\"count\",\n",
    "                 height=4, aspect=.7);"
   ]
  },
  {
   "cell_type": "markdown",
   "id": "2f9b4112",
   "metadata": {},
   "source": [
    "### 4. What is the Percentage of Defaulters"
   ]
  },
  {
   "cell_type": "code",
   "execution_count": 410,
   "id": "7e76fbe2",
   "metadata": {},
   "outputs": [
    {
     "name": "stdout",
     "output_type": "stream",
     "text": [
      "40.0 % of people paid after time\n"
     ]
    }
   ],
   "source": [
    "defaultPerc=((df.shape[0]-df['past_due_days'].isnull().sum())/df.shape[0])*100\n",
    "print(defaultPerc,\"% of people paid after time\")"
   ]
  },
  {
   "cell_type": "code",
   "execution_count": 414,
   "id": "b9751bc1",
   "metadata": {},
   "outputs": [
    {
     "data": {
      "image/png": "[encoded data removed]",
      "text/plain": [
       "<Figure size 640x480 with 1 Axes>"
      ]
     },
     "metadata": {},
     "output_type": "display_data"
    }
   ],
   "source": [
    "# Pie chart, where the slices will be ordered and plotted counter-clockwise:\n",
    "labels = 'After Due Date', 'Before Due Date'\n",
    "sizes = [defaultPerc,100-defaultPerc]\n",
    "explode = (0, 0.1)  # only \"explode\" the 2nd slice \n",
    "\n",
    "fig1, ax1 = plt.subplots()\n",
    "ax1.pie(sizes, explode=explode, labels=labels,autopct='%1.1f%%',\n",
    "        shadow=True, startangle=90)\n",
    "ax1.axis('equal')  # Equal aspect ratio ensures that pie is drawn as a circle.\n",
    "\n",
    "fig1.suptitle('People who paid Before Due Date or After Due Date', fontsize=16)\n",
    "\n",
    "\n",
    "plt.show()\n"
   ]
  },
  {
   "cell_type": "markdown",
   "id": "2d7b919b",
   "metadata": {
    "scrolled": true
   },
   "source": [
    "## CONCLUSION"
   ]
  },
  {
   "cell_type": "markdown",
   "id": "580b8702",
   "metadata": {
    "scrolled": true
   },
   "source": [
    "- majority of People who apply for loans are in College and High School\n",
    "- People going for higher studies mostly apply for loans with Principal Amount of 800 , 1000\n",
    "- Male candidates apply wide variety of loans\n",
    "- 40% of people applying for loans to this bank are defaulters whcih means bank need to work on their policies and recovering rules"
   ]
  },
  {
   "cell_type": "code",
   "execution_count": null,
   "id": "ad638779",
   "metadata": {
    "scrolled": true
   },
   "outputs": [],
   "source": []
  },
  {
   "cell_type": "code",
   "execution_count": null,
   "id": "f6a81874",
   "metadata": {
    "scrolled": true
   },
   "outputs": [],
   "source": []
  }
 ],
 "metadata": {
  "kernelspec": {
   "display_name": "Python 3 (ipykernel)",
   "language": "python",
   "name": "python3"
  },
  "language_info": {
   "codemirror_mode": {
    "name": "ipython",
    "version": 3
   },
   "file_extension": ".py",
   "mimetype": "text/x-python",
   "name": "python",
   "nbconvert_exporter": "python",
   "pygments_lexer": "ipython3",
   "version": "3.10.6"
  }
 },
 "nbformat": 4,
 "nbformat_minor": 5
}
