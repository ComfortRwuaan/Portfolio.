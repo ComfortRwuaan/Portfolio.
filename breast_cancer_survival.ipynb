{
 "cells": [
  {
   "cell_type": "code",
   "execution_count": 12,
   "id": "05e1b2cc",
   "metadata": {},
   "outputs": [],
   "source": [
    "import pandas as pd\n",
    "import numpy as np\n",
    "import matplotlib.pyplot as plt\n",
    "\n",
    "plt.style.use('ggplot')"
   ]
  },
  {
   "cell_type": "code",
   "execution_count": 13,
   "id": "88790629",
   "metadata": {},
   "outputs": [],
   "source": [
    "df = pd.read_csv('breast_cancer_survival.csv')"
   ]
  },
  {
   "cell_type": "code",
   "execution_count": 14,
   "id": "9a21b825",
   "metadata": {},
   "outputs": [
    {
     "data": {
      "text/html": [
       "<div>\n",
       "<style scoped>\n",
       "    .dataframe tbody tr th:only-of-type {\n",
       "        vertical-align: middle;\n",
       "    }\n",
       "\n",
       "    .dataframe tbody tr th {\n",
       "        vertical-align: top;\n",
       "    }\n",
       "\n",
       "    .dataframe thead th {\n",
       "        text-align: right;\n",
       "    }\n",
       "</style>\n",
       "<table border=\"1\" class=\"dataframe\">\n",
       "  <thead>\n",
       "    <tr style=\"text-align: right;\">\n",
       "      <th></th>\n",
       "      <th>Age</th>\n",
       "      <th>Gender</th>\n",
       "      <th>Protein1</th>\n",
       "      <th>Protein2</th>\n",
       "      <th>Protein3</th>\n",
       "      <th>Protein4</th>\n",
       "      <th>Tumour_Stage</th>\n",
       "      <th>Histology</th>\n",
       "      <th>ER status</th>\n",
       "      <th>PR status</th>\n",
       "      <th>HER2 status</th>\n",
       "      <th>Surgery_type</th>\n",
       "      <th>Date_of_Surgery</th>\n",
       "      <th>Date_of_Last_Visit</th>\n",
       "      <th>Patient_Status</th>\n",
       "    </tr>\n",
       "  </thead>\n",
       "  <tbody>\n",
       "    <tr>\n",
       "      <th>0</th>\n",
       "      <td>42</td>\n",
       "      <td>FEMALE</td>\n",
       "      <td>0.95</td>\n",
       "      <td>2.15</td>\n",
       "      <td>0.01</td>\n",
       "      <td>-0.05</td>\n",
       "      <td>II</td>\n",
       "      <td>Infiltrating Ductal Carcinoma</td>\n",
       "      <td>Positive</td>\n",
       "      <td>Positive</td>\n",
       "      <td>Negative</td>\n",
       "      <td>Other</td>\n",
       "      <td>20-May-18</td>\n",
       "      <td>26-Aug-18</td>\n",
       "      <td>Alive</td>\n",
       "    </tr>\n",
       "    <tr>\n",
       "      <th>1</th>\n",
       "      <td>54</td>\n",
       "      <td>FEMALE</td>\n",
       "      <td>0.00</td>\n",
       "      <td>1.38</td>\n",
       "      <td>-0.50</td>\n",
       "      <td>-0.51</td>\n",
       "      <td>II</td>\n",
       "      <td>Infiltrating Ductal Carcinoma</td>\n",
       "      <td>Positive</td>\n",
       "      <td>Positive</td>\n",
       "      <td>Negative</td>\n",
       "      <td>Other</td>\n",
       "      <td>26-Apr-18</td>\n",
       "      <td>25-Jan-19</td>\n",
       "      <td>Dead</td>\n",
       "    </tr>\n",
       "    <tr>\n",
       "      <th>2</th>\n",
       "      <td>63</td>\n",
       "      <td>FEMALE</td>\n",
       "      <td>-0.52</td>\n",
       "      <td>1.76</td>\n",
       "      <td>-0.37</td>\n",
       "      <td>0.01</td>\n",
       "      <td>II</td>\n",
       "      <td>Infiltrating Ductal Carcinoma</td>\n",
       "      <td>Positive</td>\n",
       "      <td>Positive</td>\n",
       "      <td>Negative</td>\n",
       "      <td>Lumpectomy</td>\n",
       "      <td>24-Aug-18</td>\n",
       "      <td>08-Apr-20</td>\n",
       "      <td>Alive</td>\n",
       "    </tr>\n",
       "    <tr>\n",
       "      <th>3</th>\n",
       "      <td>78</td>\n",
       "      <td>FEMALE</td>\n",
       "      <td>-0.88</td>\n",
       "      <td>0.13</td>\n",
       "      <td>-0.37</td>\n",
       "      <td>0.13</td>\n",
       "      <td>I</td>\n",
       "      <td>Infiltrating Ductal Carcinoma</td>\n",
       "      <td>Positive</td>\n",
       "      <td>Positive</td>\n",
       "      <td>Negative</td>\n",
       "      <td>Other</td>\n",
       "      <td>16-Nov-18</td>\n",
       "      <td>28-Jul-20</td>\n",
       "      <td>Alive</td>\n",
       "    </tr>\n",
       "    <tr>\n",
       "      <th>4</th>\n",
       "      <td>42</td>\n",
       "      <td>FEMALE</td>\n",
       "      <td>0.23</td>\n",
       "      <td>1.75</td>\n",
       "      <td>-0.54</td>\n",
       "      <td>-0.39</td>\n",
       "      <td>II</td>\n",
       "      <td>Infiltrating Ductal Carcinoma</td>\n",
       "      <td>Positive</td>\n",
       "      <td>Positive</td>\n",
       "      <td>Positive</td>\n",
       "      <td>Lumpectomy</td>\n",
       "      <td>12-Dec-18</td>\n",
       "      <td>05-Jan-19</td>\n",
       "      <td>Alive</td>\n",
       "    </tr>\n",
       "  </tbody>\n",
       "</table>\n",
       "</div>"
      ],
      "text/plain": [
       "   Age  Gender  Protein1  Protein2  Protein3  Protein4 Tumour_Stage  \\\n",
       "0   42  FEMALE      0.95      2.15      0.01     -0.05           II   \n",
       "1   54  FEMALE      0.00      1.38     -0.50     -0.51           II   \n",
       "2   63  FEMALE     -0.52      1.76     -0.37      0.01           II   \n",
       "3   78  FEMALE     -0.88      0.13     -0.37      0.13            I   \n",
       "4   42  FEMALE      0.23      1.75     -0.54     -0.39           II   \n",
       "\n",
       "                       Histology ER status PR status HER2 status Surgery_type  \\\n",
       "0  Infiltrating Ductal Carcinoma  Positive  Positive    Negative        Other   \n",
       "1  Infiltrating Ductal Carcinoma  Positive  Positive    Negative        Other   \n",
       "2  Infiltrating Ductal Carcinoma  Positive  Positive    Negative   Lumpectomy   \n",
       "3  Infiltrating Ductal Carcinoma  Positive  Positive    Negative        Other   \n",
       "4  Infiltrating Ductal Carcinoma  Positive  Positive    Positive   Lumpectomy   \n",
       "\n",
       "  Date_of_Surgery Date_of_Last_Visit Patient_Status  \n",
       "0       20-May-18          26-Aug-18          Alive  \n",
       "1       26-Apr-18          25-Jan-19           Dead  \n",
       "2       24-Aug-18          08-Apr-20          Alive  \n",
       "3       16-Nov-18          28-Jul-20          Alive  \n",
       "4       12-Dec-18          05-Jan-19          Alive  "
      ]
     },
     "execution_count": 14,
     "metadata": {},
     "output_type": "execute_result"
    }
   ],
   "source": [
    "df.head()"
   ]
  },
  {
   "cell_type": "code",
   "execution_count": 15,
   "id": "3e7106ab",
   "metadata": {},
   "outputs": [
    {
     "name": "stdout",
     "output_type": "stream",
     "text": [
      "<class 'pandas.core.frame.DataFrame'>\n",
      "RangeIndex: 334 entries, 0 to 333\n",
      "Data columns (total 15 columns):\n",
      " #   Column              Non-Null Count  Dtype  \n",
      "---  ------              --------------  -----  \n",
      " 0   Age                 334 non-null    int64  \n",
      " 1   Gender              334 non-null    object \n",
      " 2   Protein1            334 non-null    float64\n",
      " 3   Protein2            334 non-null    float64\n",
      " 4   Protein3            334 non-null    float64\n",
      " 5   Protein4            334 non-null    float64\n",
      " 6   Tumour_Stage        334 non-null    object \n",
      " 7   Histology           334 non-null    object \n",
      " 8   ER status           334 non-null    object \n",
      " 9   PR status           334 non-null    object \n",
      " 10  HER2 status         334 non-null    object \n",
      " 11  Surgery_type        334 non-null    object \n",
      " 12  Date_of_Surgery     334 non-null    object \n",
      " 13  Date_of_Last_Visit  317 non-null    object \n",
      " 14  Patient_Status      321 non-null    object \n",
      "dtypes: float64(4), int64(1), object(10)\n",
      "memory usage: 39.3+ KB\n"
     ]
    }
   ],
   "source": [
    "df.info()"
   ]
  },
  {
   "cell_type": "code",
   "execution_count": 16,
   "id": "d50a7b59",
   "metadata": {},
   "outputs": [
    {
     "data": {
      "text/html": [
       "<div>\n",
       "<style scoped>\n",
       "    .dataframe tbody tr th:only-of-type {\n",
       "        vertical-align: middle;\n",
       "    }\n",
       "\n",
       "    .dataframe tbody tr th {\n",
       "        vertical-align: top;\n",
       "    }\n",
       "\n",
       "    .dataframe thead th {\n",
       "        text-align: right;\n",
       "    }\n",
       "</style>\n",
       "<table border=\"1\" class=\"dataframe\">\n",
       "  <thead>\n",
       "    <tr style=\"text-align: right;\">\n",
       "      <th></th>\n",
       "      <th>Age</th>\n",
       "      <th>Protein1</th>\n",
       "      <th>Protein2</th>\n",
       "      <th>Protein3</th>\n",
       "      <th>Protein4</th>\n",
       "    </tr>\n",
       "  </thead>\n",
       "  <tbody>\n",
       "    <tr>\n",
       "      <th>count</th>\n",
       "      <td>334.00</td>\n",
       "      <td>334.00</td>\n",
       "      <td>334.00</td>\n",
       "      <td>334.00</td>\n",
       "      <td>334.00</td>\n",
       "    </tr>\n",
       "    <tr>\n",
       "      <th>mean</th>\n",
       "      <td>58.89</td>\n",
       "      <td>-0.03</td>\n",
       "      <td>0.95</td>\n",
       "      <td>-0.09</td>\n",
       "      <td>0.01</td>\n",
       "    </tr>\n",
       "    <tr>\n",
       "      <th>std</th>\n",
       "      <td>12.96</td>\n",
       "      <td>0.56</td>\n",
       "      <td>0.91</td>\n",
       "      <td>0.59</td>\n",
       "      <td>0.63</td>\n",
       "    </tr>\n",
       "    <tr>\n",
       "      <th>min</th>\n",
       "      <td>29.00</td>\n",
       "      <td>-2.34</td>\n",
       "      <td>-0.98</td>\n",
       "      <td>-1.63</td>\n",
       "      <td>-2.03</td>\n",
       "    </tr>\n",
       "    <tr>\n",
       "      <th>25%</th>\n",
       "      <td>49.00</td>\n",
       "      <td>-0.36</td>\n",
       "      <td>0.36</td>\n",
       "      <td>-0.51</td>\n",
       "      <td>-0.38</td>\n",
       "    </tr>\n",
       "    <tr>\n",
       "      <th>50%</th>\n",
       "      <td>58.00</td>\n",
       "      <td>0.01</td>\n",
       "      <td>0.99</td>\n",
       "      <td>-0.17</td>\n",
       "      <td>0.04</td>\n",
       "    </tr>\n",
       "    <tr>\n",
       "      <th>75%</th>\n",
       "      <td>68.00</td>\n",
       "      <td>0.34</td>\n",
       "      <td>1.63</td>\n",
       "      <td>0.28</td>\n",
       "      <td>0.43</td>\n",
       "    </tr>\n",
       "    <tr>\n",
       "      <th>max</th>\n",
       "      <td>90.00</td>\n",
       "      <td>1.59</td>\n",
       "      <td>3.40</td>\n",
       "      <td>2.19</td>\n",
       "      <td>1.63</td>\n",
       "    </tr>\n",
       "  </tbody>\n",
       "</table>\n",
       "</div>"
      ],
      "text/plain": [
       "         Age  Protein1  Protein2  Protein3  Protein4\n",
       "count 334.00    334.00    334.00    334.00    334.00\n",
       "mean   58.89     -0.03      0.95     -0.09      0.01\n",
       "std    12.96      0.56      0.91      0.59      0.63\n",
       "min    29.00     -2.34     -0.98     -1.63     -2.03\n",
       "25%    49.00     -0.36      0.36     -0.51     -0.38\n",
       "50%    58.00      0.01      0.99     -0.17      0.04\n",
       "75%    68.00      0.34      1.63      0.28      0.43\n",
       "max    90.00      1.59      3.40      2.19      1.63"
      ]
     },
     "execution_count": 16,
     "metadata": {},
     "output_type": "execute_result"
    }
   ],
   "source": [
    "df.describe()"
   ]
  },
  {
   "cell_type": "code",
   "execution_count": 17,
   "id": "683f328c",
   "metadata": {},
   "outputs": [
    {
     "data": {
      "text/html": [
       "<div>\n",
       "<style scoped>\n",
       "    .dataframe tbody tr th:only-of-type {\n",
       "        vertical-align: middle;\n",
       "    }\n",
       "\n",
       "    .dataframe tbody tr th {\n",
       "        vertical-align: top;\n",
       "    }\n",
       "\n",
       "    .dataframe thead th {\n",
       "        text-align: right;\n",
       "    }\n",
       "</style>\n",
       "<table border=\"1\" class=\"dataframe\">\n",
       "  <thead>\n",
       "    <tr style=\"text-align: right;\">\n",
       "      <th></th>\n",
       "      <th>count</th>\n",
       "      <th>unique</th>\n",
       "      <th>top</th>\n",
       "      <th>freq</th>\n",
       "    </tr>\n",
       "  </thead>\n",
       "  <tbody>\n",
       "    <tr>\n",
       "      <th>Gender</th>\n",
       "      <td>334</td>\n",
       "      <td>2</td>\n",
       "      <td>FEMALE</td>\n",
       "      <td>330</td>\n",
       "    </tr>\n",
       "    <tr>\n",
       "      <th>Tumour_Stage</th>\n",
       "      <td>334</td>\n",
       "      <td>3</td>\n",
       "      <td>II</td>\n",
       "      <td>189</td>\n",
       "    </tr>\n",
       "    <tr>\n",
       "      <th>Histology</th>\n",
       "      <td>334</td>\n",
       "      <td>3</td>\n",
       "      <td>Infiltrating Ductal Carcinoma</td>\n",
       "      <td>233</td>\n",
       "    </tr>\n",
       "    <tr>\n",
       "      <th>ER status</th>\n",
       "      <td>334</td>\n",
       "      <td>1</td>\n",
       "      <td>Positive</td>\n",
       "      <td>334</td>\n",
       "    </tr>\n",
       "    <tr>\n",
       "      <th>PR status</th>\n",
       "      <td>334</td>\n",
       "      <td>1</td>\n",
       "      <td>Positive</td>\n",
       "      <td>334</td>\n",
       "    </tr>\n",
       "    <tr>\n",
       "      <th>HER2 status</th>\n",
       "      <td>334</td>\n",
       "      <td>2</td>\n",
       "      <td>Negative</td>\n",
       "      <td>305</td>\n",
       "    </tr>\n",
       "    <tr>\n",
       "      <th>Surgery_type</th>\n",
       "      <td>334</td>\n",
       "      <td>4</td>\n",
       "      <td>Other</td>\n",
       "      <td>105</td>\n",
       "    </tr>\n",
       "    <tr>\n",
       "      <th>Date_of_Surgery</th>\n",
       "      <td>334</td>\n",
       "      <td>181</td>\n",
       "      <td>06-Nov-18</td>\n",
       "      <td>5</td>\n",
       "    </tr>\n",
       "    <tr>\n",
       "      <th>Date_of_Last_Visit</th>\n",
       "      <td>317</td>\n",
       "      <td>285</td>\n",
       "      <td>09-Aug-19</td>\n",
       "      <td>3</td>\n",
       "    </tr>\n",
       "    <tr>\n",
       "      <th>Patient_Status</th>\n",
       "      <td>321</td>\n",
       "      <td>2</td>\n",
       "      <td>Alive</td>\n",
       "      <td>255</td>\n",
       "    </tr>\n",
       "  </tbody>\n",
       "</table>\n",
       "</div>"
      ],
      "text/plain": [
       "                   count unique                            top freq\n",
       "Gender               334      2                         FEMALE  330\n",
       "Tumour_Stage         334      3                             II  189\n",
       "Histology            334      3  Infiltrating Ductal Carcinoma  233\n",
       "ER status            334      1                       Positive  334\n",
       "PR status            334      1                       Positive  334\n",
       "HER2 status          334      2                       Negative  305\n",
       "Surgery_type         334      4                          Other  105\n",
       "Date_of_Surgery      334    181                      06-Nov-18    5\n",
       "Date_of_Last_Visit   317    285                      09-Aug-19    3\n",
       "Patient_Status       321      2                          Alive  255"
      ]
     },
     "execution_count": 17,
     "metadata": {},
     "output_type": "execute_result"
    }
   ],
   "source": [
    "df.describe(include='object').T"
   ]
  },
  {
   "cell_type": "code",
   "execution_count": 18,
   "id": "80de2e02",
   "metadata": {},
   "outputs": [
    {
     "data": {
      "text/plain": [
       "FEMALE    330\n",
       "MALE        4\n",
       "Name: Gender, dtype: int64"
      ]
     },
     "execution_count": 18,
     "metadata": {},
     "output_type": "execute_result"
    }
   ],
   "source": [
    "df['Gender'].value_counts()"
   ]
  },
  {
   "cell_type": "code",
   "execution_count": 19,
   "id": "6f8731e7",
   "metadata": {},
   "outputs": [
    {
     "data": {
      "text/plain": [
       "array([<AxesSubplot: ylabel=' '>], dtype=object)"
      ]
     },
     "execution_count": 19,
     "metadata": {},
     "output_type": "execute_result"
    },
    {
     "data": {
      "image/png": "[encoded data removed]",
      "text/plain": [
       "<Figure size 700x700 with 1 Axes>"
      ]
     },
     "metadata": {},
     "output_type": "display_data"
    }
   ],
   "source": [
    "df.Tumour_Stage.value_counts().sort_index().plot(kind='pie',figsize=(7,7),subplots=True,\n",
    "                                                title='No of patients with differnt stages of cancer',\n",
    "                                                ylabel=\" \",legend=False,autopct='%1.3f%%')"
   ]
  },
  {
   "cell_type": "code",
   "execution_count": 20,
   "id": "61916c36",
   "metadata": {
    "scrolled": true
   },
   "outputs": [
    {
     "data": {
      "text/plain": [
       "array([<AxesSubplot: title={'center': 'Histology'}>], dtype=object)"
      ]
     },
     "execution_count": 20,
     "metadata": {},
     "output_type": "execute_result"
    },
    {
     "data": {
      "image/png": "[encoded data removed]",
      "text/plain": [
       "<Figure size 700x700 with 1 Axes>"
      ]
     },
     "metadata": {},
     "output_type": "display_data"
    }
   ],
   "source": [
    "df.Histology.value_counts().plot(kind='bar',subplots=True,legend=False,figsize=(7,7))"
   ]
  },
  {
   "cell_type": "markdown",
   "id": "408e4741",
   "metadata": {},
   "source": [
    "# Preprocessing Pipeline "
   ]
  },
  {
   "cell_type": "code",
   "execution_count": 21,
   "id": "022d5f93",
   "metadata": {},
   "outputs": [],
   "source": [
    "from sklearn.compose import ColumnTransformer\n",
    "from sklearn.impute import SimpleImputer\n",
    "from sklearn.pipeline import Pipeline\n",
    "from sklearn.preprocessing import OneHotEncoder, LabelEncoder, StandardScaler, OrdinalEncoder"
   ]
  },
  {
   "cell_type": "code",
   "execution_count": 22,
   "id": "3e85aa2f",
   "metadata": {},
   "outputs": [],
   "source": [
    "# Drop ER and PR status\n",
    "df.drop(['ER status', 'PR status'], axis=1, inplace=True)\n",
    "\n",
    "# Encode Tumour_Stage, Histology, and Surgery_type using OrdinalEncoder\n",
    "ordinal_encoder = OrdinalEncoder(categories=[['I', 'II', 'III', 'IV'], \n",
    "                                              ['Infiltrating Ductal Carcinoma', 'Infiltrating Lobular Carcinoma', 'Mucinous Carcinoma'],\n",
    "                                              ['Other', 'Lumpectomy', 'Modified Radical Mastectomy','Simple Mastectomy']])\n",
    "df[['Tumour_Stage', 'Histology', 'Surgery_type']] = ordinal_encoder.fit_transform(df[['Tumour_Stage', 'Histology', 'Surgery_type']])\n",
    "\n",
    "# Encode Gender and HER2 status using binary encoding\n",
    "df = pd.get_dummies(df, columns=['Gender', 'HER2 status'], drop_first=True)\n",
    "\n",
    "# Extract year, month, and day from Date_of_Surgery and Date_of_Last_Visit\n",
    "df['Surgery_Year'] = pd.DatetimeIndex(df['Date_of_Surgery']).year\n",
    "df['Surgery_Month'] = pd.DatetimeIndex(df['Date_of_Surgery']).month\n",
    "df['Surgery_Day'] = pd.DatetimeIndex(df['Date_of_Surgery']).day\n",
    "df.drop('Date_of_Surgery', axis=1, inplace=True)\n",
    "\n",
    "df['LastVisit_Year'] = pd.DatetimeIndex(df['Date_of_Last_Visit']).year\n",
    "df['LastVisit_Month'] = pd.DatetimeIndex(df['Date_of_Last_Visit']).month\n",
    "df['LastVisit_Day'] = pd.DatetimeIndex(df['Date_of_Last_Visit']).day\n",
    "df.drop('Date_of_Last_Visit', axis=1, inplace=True)"
   ]
  },
  {
   "cell_type": "code",
   "execution_count": 23,
   "id": "2db63aab",
   "metadata": {},
   "outputs": [],
   "source": [
    "numerical_columns = [column for column in df.columns if df[column].dtype in ['int64','float64']]\n",
    "\n",
    "numerical_preprocessor = Pipeline(steps=[\n",
    "    (\"imputer\",SimpleImputer(strategy='mean')),\n",
    "    (\"scaler\",StandardScaler())\n",
    "])\n",
    "\n",
    "categorical_preprocessor = Pipeline(steps=[\n",
    "    (\"imputer\",SimpleImputer(strategy='most_frequent')),\n",
    "    (\"onehot\",OneHotEncoder(handle_unknown='ignore'))\n",
    "])\n",
    "\n",
    "preprocessor = ColumnTransformer(\n",
    "transformers=[\n",
    "    (\"numerical\",numerical_preprocessor,numerical_columns)\n",
    "])"
   ]
  },
  {
   "cell_type": "code",
   "execution_count": 24,
   "id": "ede4becd",
   "metadata": {},
   "outputs": [],
   "source": [
    "X = df.drop(\"Patient_Status\",axis=1)\n",
    "y = df.Patient_Status\n",
    "\n",
    "from sklearn.model_selection import train_test_split\n",
    "\n",
    "X_train,X_test,y_train,y_test = train_test_split(X,\n",
    "                                                y,\n",
    "                                                test_size=0.2,\n",
    "                                                random_state=42)\n",
    "\n",
    "X_train = preprocessor.fit_transform(X_train)\n",
    "X_test = preprocessor.transform(X_test)\n",
    "\n",
    "label_encoder = LabelEncoder()\n",
    "\n",
    "y_train = label_encoder.fit_transform(y_train)\n",
    "y_test = label_encoder.transform(y_test)"
   ]
  },
  {
   "cell_type": "markdown",
   "id": "0ee3e82f",
   "metadata": {},
   "source": [
    "# Evaluating accuracy across all models"
   ]
  },
  {
   "cell_type": "code",
   "execution_count": 25,
   "id": "de814a6a",
   "metadata": {},
   "outputs": [],
   "source": [
    "#!pip install lazypredict"
   ]
  },
  {
   "cell_type": "code",
   "execution_count": 26,
   "id": "7997f1b6",
   "metadata": {},
   "outputs": [
    {
     "name": "stderr",
     "output_type": "stream",
     "text": [
      "100%|██████████████████████████████████████████████████████████████████████████████████| 29/29 [00:02<00:00, 14.01it/s]"
     ]
    },
    {
     "name": "stdout",
     "output_type": "stream",
     "text": [
      "                               Accuracy  Balanced Accuracy ROC AUC  F1 Score  \\\n",
      "Model                                                                          \n",
      "DecisionTreeClassifier             0.73               0.69    None      0.73   \n",
      "GaussianNB                         0.81               0.68    None      0.76   \n",
      "AdaBoostClassifier                 0.52               0.67    None      0.57   \n",
      "LGBMClassifier                     0.75               0.55    None      0.71   \n",
      "ExtraTreesClassifier               0.81               0.47    None      0.74   \n",
      "RandomForestClassifier             0.79               0.44    None      0.71   \n",
      "XGBClassifier                      0.73               0.42    None      0.68   \n",
      "ExtraTreeClassifier                0.70               0.39    None      0.71   \n",
      "LinearDiscriminantAnalysis         0.79               0.36    None      0.71   \n",
      "LogisticRegression                 0.79               0.36    None      0.71   \n",
      "NearestCentroid                    0.34               0.36    None      0.41   \n",
      "KNeighborsClassifier               0.75               0.34    None      0.69   \n",
      "SGDClassifier                      0.73               0.34    None      0.68   \n",
      "SVC                                0.78               0.33    None      0.68   \n",
      "RidgeClassifierCV                  0.78               0.33    None      0.68   \n",
      "RidgeClassifier                    0.78               0.33    None      0.68   \n",
      "CalibratedClassifierCV             0.78               0.33    None      0.68   \n",
      "DummyClassifier                    0.78               0.33    None      0.68   \n",
      "BernoulliNB                        0.78               0.33    None      0.68   \n",
      "LinearSVC                          0.78               0.33    None      0.68   \n",
      "QuadraticDiscriminantAnalysis      0.72               0.33    None      0.67   \n",
      "PassiveAggressiveClassifier        0.73               0.31    None      0.66   \n",
      "BaggingClassifier                  0.72               0.31    None      0.65   \n",
      "LabelSpreading                     0.61               0.31    None      0.62   \n",
      "LabelPropagation                   0.61               0.31    None      0.62   \n",
      "Perceptron                         0.64               0.30    None      0.62   \n",
      "\n",
      "                               Time Taken  \n",
      "Model                                      \n",
      "DecisionTreeClassifier               0.03  \n",
      "GaussianNB                           0.02  \n",
      "AdaBoostClassifier                   0.18  \n",
      "LGBMClassifier                       0.13  \n",
      "ExtraTreesClassifier                 0.26  \n",
      "RandomForestClassifier               0.31  \n",
      "XGBClassifier                        0.19  \n",
      "ExtraTreeClassifier                  0.02  \n",
      "LinearDiscriminantAnalysis           0.06  \n",
      "LogisticRegression                   0.04  \n",
      "NearestCentroid                      0.02  \n",
      "KNeighborsClassifier                 0.03  \n",
      "SGDClassifier                        0.03  \n",
      "SVC                                  0.03  \n",
      "RidgeClassifierCV                    0.02  \n",
      "RidgeClassifier                      0.04  \n",
      "CalibratedClassifierCV               0.27  \n",
      "DummyClassifier                      0.02  \n",
      "BernoulliNB                          0.06  \n",
      "LinearSVC                            0.07  \n",
      "QuadraticDiscriminantAnalysis        0.02  \n",
      "PassiveAggressiveClassifier          0.03  \n",
      "BaggingClassifier                    0.08  \n",
      "LabelSpreading                       0.03  \n",
      "LabelPropagation                     0.03  \n",
      "Perceptron                           0.03  \n"
     ]
    },
    {
     "name": "stderr",
     "output_type": "stream",
     "text": [
      "\n"
     ]
    }
   ],
   "source": [
    "from lazypredict.Supervised import LazyClassifier\n",
    "\n",
    "clf = LazyClassifier(verbose=0,ignore_warnings=True,custom_metric=None)\n",
    "model,predictions = clf.fit(X_train,X_test,y_train,y_test)\n",
    "print(predictions)"
   ]
  },
  {
   "cell_type": "code",
   "execution_count": null,
   "id": "3c10126d",
   "metadata": {},
   "outputs": [],
   "source": []
  }
 ],
 "metadata": {
  "kernelspec": {
   "display_name": "Python 3 (ipykernel)",
   "language": "python",
   "name": "python3"
  },
  "language_info": {
   "codemirror_mode": {
    "name": "ipython",
    "version": 3
   },
   "file_extension": ".py",
   "mimetype": "text/x-python",
   "name": "python",
   "nbconvert_exporter": "python",
   "pygments_lexer": "ipython3",
   "version": "3.10.6"
  }
 },
 "nbformat": 4,
 "nbformat_minor": 5
}
